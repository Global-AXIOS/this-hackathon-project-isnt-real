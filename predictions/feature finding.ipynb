{
 "cells": [
  {
   "cell_type": "code",
   "execution_count": 1,
   "metadata": {},
   "outputs": [],
   "source": [
    "import pandas as pd\n",
    "import numpy as np\n",
    "import sklearn as sk\n",
    "import matplotlib.pyplot as plt\n",
    "import json\n",
    "from sklearn import datasets\n",
    "plt.style.use('ggplot')\n",
    "%matplotlib inline\n",
    "%config InlineBackend.figure_format = 'retina'"
   ]
  },
  {
   "cell_type": "code",
   "execution_count": 38,
   "metadata": {},
   "outputs": [
    {
     "data": {
      "text/html": [
       "<div>\n",
       "<style scoped>\n",
       "    .dataframe tbody tr th:only-of-type {\n",
       "        vertical-align: middle;\n",
       "    }\n",
       "\n",
       "    .dataframe tbody tr th {\n",
       "        vertical-align: top;\n",
       "    }\n",
       "\n",
       "    .dataframe thead th {\n",
       "        text-align: right;\n",
       "    }\n",
       "</style>\n",
       "<table border=\"1\" class=\"dataframe\">\n",
       "  <thead>\n",
       "    <tr style=\"text-align: right;\">\n",
       "      <th></th>\n",
       "      <th>title</th>\n",
       "      <th>tech</th>\n",
       "      <th>is_winner</th>\n",
       "      <th>likes</th>\n",
       "      <th>members</th>\n",
       "      <th>Unnamed: 5</th>\n",
       "    </tr>\n",
       "  </thead>\n",
       "  <tbody>\n",
       "    <tr>\n",
       "      <th>0</th>\n",
       "      <td>racket.js</td>\n",
       "      <td>['javascript']</td>\n",
       "      <td>False</td>\n",
       "      <td>0</td>\n",
       "      <td>['namansood', 'padamchopra']</td>\n",
       "      <td>NaN</td>\n",
       "    </tr>\n",
       "    <tr>\n",
       "      <th>1</th>\n",
       "      <td>Fun Cat Quiz!</td>\n",
       "      <td>['c++']</td>\n",
       "      <td>False</td>\n",
       "      <td>0</td>\n",
       "      <td>['laythal-hellawi', 'chenchai']</td>\n",
       "      <td>https://challengepost-s3-challengepost.netdna-...</td>\n",
       "    </tr>\n",
       "    <tr>\n",
       "      <th>2</th>\n",
       "      <td>Interactive venue</td>\n",
       "      <td>['particle', 'c++', 'juce', 'osc', 'l-isa', 'j...</td>\n",
       "      <td>False</td>\n",
       "      <td>0</td>\n",
       "      <td>['adriamcassorla', 'yazsound', 'chrisearnshaw'...</td>\n",
       "      <td>NaN</td>\n",
       "    </tr>\n",
       "    <tr>\n",
       "      <th>3</th>\n",
       "      <td>Mathematical Sequence Analysis/Experimentation</td>\n",
       "      <td>['java']</td>\n",
       "      <td>False</td>\n",
       "      <td>0</td>\n",
       "      <td>['shreyan-das', 'chiefvishpat']</td>\n",
       "      <td>https://challengepost-s3-challengepost.netdna-...</td>\n",
       "    </tr>\n",
       "    <tr>\n",
       "      <th>4</th>\n",
       "      <td>Weatherbet</td>\n",
       "      <td>NaN</td>\n",
       "      <td>False</td>\n",
       "      <td>1</td>\n",
       "      <td>['99christina', 'munsterberg']</td>\n",
       "      <td>https://challengepost-s3-challengepost.netdna-...</td>\n",
       "    </tr>\n",
       "  </tbody>\n",
       "</table>\n",
       "</div>"
      ],
      "text/plain": [
       "                                            title  \\\n",
       "0                                       racket.js   \n",
       "1                                   Fun Cat Quiz!   \n",
       "2                               Interactive venue   \n",
       "3  Mathematical Sequence Analysis/Experimentation   \n",
       "4                                      Weatherbet   \n",
       "\n",
       "                                                tech  is_winner  likes  \\\n",
       "0                                     ['javascript']      False      0   \n",
       "1                                            ['c++']      False      0   \n",
       "2  ['particle', 'c++', 'juce', 'osc', 'l-isa', 'j...      False      0   \n",
       "3                                           ['java']      False      0   \n",
       "4                                                NaN      False      1   \n",
       "\n",
       "                                             members  \\\n",
       "0                       ['namansood', 'padamchopra']   \n",
       "1                    ['laythal-hellawi', 'chenchai']   \n",
       "2  ['adriamcassorla', 'yazsound', 'chrisearnshaw'...   \n",
       "3                    ['shreyan-das', 'chiefvishpat']   \n",
       "4                     ['99christina', 'munsterberg']   \n",
       "\n",
       "                                          Unnamed: 5  \n",
       "0                                                NaN  \n",
       "1  https://challengepost-s3-challengepost.netdna-...  \n",
       "2                                                NaN  \n",
       "3  https://challengepost-s3-challengepost.netdna-...  \n",
       "4  https://challengepost-s3-challengepost.netdna-...  "
      ]
     },
     "execution_count": 38,
     "metadata": {},
     "output_type": "execute_result"
    }
   ],
   "source": [
    "jakes_data_csv = \"20-sample.csv\"\n",
    "data = pd.read_csv(jakes_data_csv)\n",
    "data.head()"
   ]
  },
  {
   "cell_type": "code",
   "execution_count": 40,
   "metadata": {},
   "outputs": [
    {
     "data": {
      "text/plain": [
       "'\\nres = pd.DataFrame(columns=(\\'list\\', \\'no\\'))\\nres = res.set_value(0,\\'list\\',\"1,2,3\")\\nres = res.set_value(0,\\'no\\', 1)\\nres = res.set_value(1,\\'list\\',\"2,3\")\\nres = res.set_value(1,\\'no\\', 4)\\n\\nres\\n'"
      ]
     },
     "execution_count": 40,
     "metadata": {},
     "output_type": "execute_result"
    }
   ],
   "source": [
    "'''\n",
    "res = pd.DataFrame(columns=('list', 'no'))\n",
    "res = res.set_value(0,'list',\"1,2,3\")\n",
    "res = res.set_value(0,'no', 1)\n",
    "res = res.set_value(1,'list',\"2,3\")\n",
    "res = res.set_value(1,'no', 4)\n",
    "\n",
    "res\n",
    "'''\n"
   ]
  },
  {
   "cell_type": "code",
   "execution_count": 58,
   "metadata": {},
   "outputs": [
    {
     "name": "stdout",
     "output_type": "stream",
     "text": [
      "['javascript', 'c++', 'particle', 'c++', 'juce', 'osc', 'l-isa', 'javascript', 'maya', 'java', 'godot', 'leap-motion', 'php', \"africa's-talking\", 'mysql', 'java', 'python', 'html', 'css', 'python', 'flask', 'node.js', 'python', 'mongodb', 'machine-learning', 'crypto', 'google-cloud', 'particle', 'ar', 'javascript', 'html', 'css', 'arduino', 'raspberry-pi', 'python', 'html', 'css', 'java', 'xcode']\n"
     ]
    },
    {
     "data": {
      "text/plain": [
       "{\"africa's-talking\": 1,\n",
       " 'ar': 1,\n",
       " 'arduino': 1,\n",
       " 'c++': 2,\n",
       " 'crypto': 1,\n",
       " 'css': 3,\n",
       " 'flask': 1,\n",
       " 'godot': 1,\n",
       " 'google-cloud': 1,\n",
       " 'html': 3,\n",
       " 'java': 3,\n",
       " 'javascript': 3,\n",
       " 'juce': 1,\n",
       " 'l-isa': 1,\n",
       " 'leap-motion': 1,\n",
       " 'machine-learning': 1,\n",
       " 'maya': 1,\n",
       " 'mongodb': 1,\n",
       " 'mysql': 1,\n",
       " 'node.js': 1,\n",
       " 'osc': 1,\n",
       " 'particle': 2,\n",
       " 'php': 1,\n",
       " 'python': 4,\n",
       " 'raspberry-pi': 1,\n",
       " 'xcode': 1}"
      ]
     },
     "execution_count": 58,
     "metadata": {},
     "output_type": "execute_result"
    }
   ],
   "source": [
    "lists = []\n",
    "master = []\n",
    "for i  in data['tech']:\n",
    "    try:\n",
    "        lists.append(eval(i))\n",
    "    except:\n",
    "        continue\n",
    "\n",
    "for l in lists:\n",
    "    for tech in l:\n",
    "        master.append(tech)\n",
    "print(master)\n",
    "\n",
    "techs = {}\n",
    "for tech in master:\n",
    "    if tech not in techs: \n",
    "        techs[tech] = 1\n",
    "    else:\n",
    "        techs[tech] += 1\n",
    "techs"
   ]
  },
  {
   "cell_type": "code",
   "execution_count": 59,
   "metadata": {},
   "outputs": [
    {
     "data": {
      "text/plain": [
       "([<matplotlib.axis.XTick at 0x2697c509080>,\n",
       "  <matplotlib.axis.XTick at 0x2697c509b38>,\n",
       "  <matplotlib.axis.XTick at 0x2697c5d4908>,\n",
       "  <matplotlib.axis.XTick at 0x2697c5f9438>,\n",
       "  <matplotlib.axis.XTick at 0x2697c5f9b00>,\n",
       "  <matplotlib.axis.XTick at 0x2697c660208>,\n",
       "  <matplotlib.axis.XTick at 0x2697c6608d0>,\n",
       "  <matplotlib.axis.XTick at 0x2697c660f98>,\n",
       "  <matplotlib.axis.XTick at 0x2697c6656a0>,\n",
       "  <matplotlib.axis.XTick at 0x2697c665d68>,\n",
       "  <matplotlib.axis.XTick at 0x2697c66a470>,\n",
       "  <matplotlib.axis.XTick at 0x2697c66ab38>,\n",
       "  <matplotlib.axis.XTick at 0x2697c672240>,\n",
       "  <matplotlib.axis.XTick at 0x2697c672908>,\n",
       "  <matplotlib.axis.XTick at 0x2697c672fd0>,\n",
       "  <matplotlib.axis.XTick at 0x2697c6766d8>,\n",
       "  <matplotlib.axis.XTick at 0x2697c676da0>,\n",
       "  <matplotlib.axis.XTick at 0x2697c67c4a8>,\n",
       "  <matplotlib.axis.XTick at 0x2697c67cb70>,\n",
       "  <matplotlib.axis.XTick at 0x2697c684278>,\n",
       "  <matplotlib.axis.XTick at 0x2697c684940>,\n",
       "  <matplotlib.axis.XTick at 0x2697c689048>,\n",
       "  <matplotlib.axis.XTick at 0x2697c689710>,\n",
       "  <matplotlib.axis.XTick at 0x2697c689dd8>,\n",
       "  <matplotlib.axis.XTick at 0x2697c68f4e0>,\n",
       "  <matplotlib.axis.XTick at 0x2697c604c50>],\n",
       " <a list of 26 Text xticklabel objects>)"
      ]
     },
     "execution_count": 59,
     "metadata": {},
     "output_type": "execute_result"
    },
    {
     "data": {
      "image/png": "[encoded data removed]",
      "text/plain": [
       "<matplotlib.figure.Figure at 0x2697c5ecf60>"
      ]
     },
     "metadata": {
      "image/png": {
       "height": 250,
       "width": 373
      }
     },
     "output_type": "display_data"
    }
   ],
   "source": [
    "plt.bar(range(len(techs)), list(techs.values()), align='center')\n",
    "plt.xticks(range(len(techs)), list(techs.keys()))"
   ]
  }
 ],
 "metadata": {
  "kernelspec": {
   "display_name": "Python 3",
   "language": "python",
   "name": "python3"
  },
  "language_info": {
   "codemirror_mode": {
    "name": "ipython",
    "version": 3
   },
   "file_extension": ".py",
   "mimetype": "text/x-python",
   "name": "python",
   "nbconvert_exporter": "python",
   "pygments_lexer": "ipython3",
   "version": "3.6.4"
  }
 },
 "nbformat": 4,
 "nbformat_minor": 2
}
